{
  "cells": [
    {
      "cell_type": "markdown",
      "metadata": {
        "id": "092w2xjk31cm"
      },
      "source": [
        "\n",
        "*Zeynep Binerbay 2561090    \n",
        "*İbrahim Arda Emektar 2561223   \n",
        "*Aykut Burak Ünyazıcı 2354280   \n",
        "*Timuçin Eke 2549244   \n",
        "\n",
        "\n",
        "\n",
        "\n",
        "\n",
        "\n"
      ]
    },
    {
      "cell_type": "markdown",
      "metadata": {
        "id": "apbSsIUo3bdz"
      },
      "source": [
        "To start data cleaning and tidiying we imported numpy and pandas."
      ]
    },
    {
      "cell_type": "code",
      "execution_count": null,
      "metadata": {
        "id": "moDoRPVihWSm"
      },
      "outputs": [],
      "source": [
        "import pandas as pd\n",
        "import numpy as np"
      ]
    },
    {
      "cell_type": "markdown",
      "metadata": {
        "id": "opJCtZH64LPp"
      },
      "source": [
        "This line of code reads and shows the dataset."
      ]
    },
    {
      "cell_type": "code",
      "execution_count": null,
      "metadata": {
        "colab": {
          "base_uri": "https://localhost:8080/"
        },
        "id": "0QuZEJAvhqIB",
        "outputId": "2bb323c9-e6fd-449c-f265-d0cb7b0430b6"
      },
      "outputs": [
        {
          "name": "stdout",
          "output_type": "stream",
          "text": [
            "                            Model  Selling.Price  Kilometers.Driven    Year  \\\n",
            "0             MarutiSwiftDzireVDI       655099.0            34078.0  2016.0   \n",
            "1           MarutiSwiftDzireVDIBS       357799.0           121017.0  2011.0   \n",
            "2                   MarutiAltoK10       246499.0            95412.0  2015.0   \n",
            "3                    HondaCityVMT       898699.0             7349.0  2018.0   \n",
            "4    HyundaiVernaFLUIDIC1.6SXCRDI       501899.0                NaN  2013.0   \n",
            "..                            ...            ...                ...     ...   \n",
            "145             RenaultDuster85PS       484699.0            67407.0  2015.0   \n",
            "146            Hyundaii10MAGNA1.2       285199.0            57031.0  2013.0   \n",
            "147               HondaCity1.5EMT       342999.0                NaN  2009.0   \n",
            "148                  HondaCitySMT       259899.0            99003.0  2009.0   \n",
            "149                    MarutiRitz       308399.0                NaN  2009.0   \n",
            "\n",
            "            Owner Fuel.Type  Car.Condition crash_record  interest_rate  \n",
            "0     First Owner    Diesel            4.6           no       8.097642  \n",
            "1     First Owner    Diesel            4.3           no       5.504414  \n",
            "2     First Owner    Petrol            4.1           no            NaN  \n",
            "3     First Owner    Petrol            4.9           no            NaN  \n",
            "4     First Owner    Diesel            4.4           no       6.838781  \n",
            "..            ...       ...            ...          ...            ...  \n",
            "145   First Owner    Diesel            4.5           no       6.879647  \n",
            "146  Second Owner    Petrol            4.3           no       4.279958  \n",
            "147   First Owner    Petrol            4.2           no       5.567457  \n",
            "148  Second Owner    Petrol            4.6           no       4.551381  \n",
            "149   First Owner    Petrol            3.9           no            NaN  \n",
            "\n",
            "[150 rows x 9 columns]\n"
          ]
        }
      ],
      "source": [
        "dirtydata = pd.read_excel('car_sell.xlsx')\n",
        "print(dirtydata)"
      ]
    },
    {
      "cell_type": "markdown",
      "metadata": {
        "id": "ViVDSbyP46Vv"
      },
      "source": [
        "This line of code show us the null values as 'True' in a table.\n",
        "\n"
      ]
    },
    {
      "cell_type": "code",
      "execution_count": null,
      "metadata": {
        "colab": {
          "base_uri": "https://localhost:8080/",
          "height": 483
        },
        "id": "SuRJaoC8jAg9",
        "outputId": "caf440f0-134e-4913-b821-1b7b33357d99"
      },
      "outputs": [
        {
          "data": {
            "text/html": [
              "\n",
              "  <div id=\"df-b53f0f75-1512-45bd-ac4e-478de711aded\">\n",
              "    <div class=\"colab-df-container\">\n",
              "      <div>\n",
              "<style scoped>\n",
              "    .dataframe tbody tr th:only-of-type {\n",
              "        vertical-align: middle;\n",
              "    }\n",
              "\n",
              "    .dataframe tbody tr th {\n",
              "        vertical-align: top;\n",
              "    }\n",
              "\n",
              "    .dataframe thead th {\n",
              "        text-align: right;\n",
              "    }\n",
              "</style>\n",
              "<table border=\"1\" class=\"dataframe\">\n",
              "  <thead>\n",
              "    <tr style=\"text-align: right;\">\n",
              "      <th></th>\n",
              "      <th>Model</th>\n",
              "      <th>Selling.Price</th>\n",
              "      <th>Kilometers.Driven</th>\n",
              "      <th>Year</th>\n",
              "      <th>Owner</th>\n",
              "      <th>Fuel.Type</th>\n",
              "      <th>Car.Condition</th>\n",
              "      <th>crash_record</th>\n",
              "      <th>interest_rate</th>\n",
              "    </tr>\n",
              "  </thead>\n",
              "  <tbody>\n",
              "    <tr>\n",
              "      <th>0</th>\n",
              "      <td>False</td>\n",
              "      <td>False</td>\n",
              "      <td>False</td>\n",
              "      <td>False</td>\n",
              "      <td>False</td>\n",
              "      <td>False</td>\n",
              "      <td>False</td>\n",
              "      <td>False</td>\n",
              "      <td>False</td>\n",
              "    </tr>\n",
              "    <tr>\n",
              "      <th>1</th>\n",
              "      <td>False</td>\n",
              "      <td>False</td>\n",
              "      <td>False</td>\n",
              "      <td>False</td>\n",
              "      <td>False</td>\n",
              "      <td>False</td>\n",
              "      <td>False</td>\n",
              "      <td>False</td>\n",
              "      <td>False</td>\n",
              "    </tr>\n",
              "    <tr>\n",
              "      <th>2</th>\n",
              "      <td>False</td>\n",
              "      <td>False</td>\n",
              "      <td>False</td>\n",
              "      <td>False</td>\n",
              "      <td>False</td>\n",
              "      <td>False</td>\n",
              "      <td>False</td>\n",
              "      <td>False</td>\n",
              "      <td>True</td>\n",
              "    </tr>\n",
              "    <tr>\n",
              "      <th>3</th>\n",
              "      <td>False</td>\n",
              "      <td>False</td>\n",
              "      <td>False</td>\n",
              "      <td>False</td>\n",
              "      <td>False</td>\n",
              "      <td>False</td>\n",
              "      <td>False</td>\n",
              "      <td>False</td>\n",
              "      <td>True</td>\n",
              "    </tr>\n",
              "    <tr>\n",
              "      <th>4</th>\n",
              "      <td>False</td>\n",
              "      <td>False</td>\n",
              "      <td>True</td>\n",
              "      <td>False</td>\n",
              "      <td>False</td>\n",
              "      <td>False</td>\n",
              "      <td>False</td>\n",
              "      <td>False</td>\n",
              "      <td>False</td>\n",
              "    </tr>\n",
              "    <tr>\n",
              "      <th>...</th>\n",
              "      <td>...</td>\n",
              "      <td>...</td>\n",
              "      <td>...</td>\n",
              "      <td>...</td>\n",
              "      <td>...</td>\n",
              "      <td>...</td>\n",
              "      <td>...</td>\n",
              "      <td>...</td>\n",
              "      <td>...</td>\n",
              "    </tr>\n",
              "    <tr>\n",
              "      <th>145</th>\n",
              "      <td>False</td>\n",
              "      <td>False</td>\n",
              "      <td>False</td>\n",
              "      <td>False</td>\n",
              "      <td>False</td>\n",
              "      <td>False</td>\n",
              "      <td>False</td>\n",
              "      <td>False</td>\n",
              "      <td>False</td>\n",
              "    </tr>\n",
              "    <tr>\n",
              "      <th>146</th>\n",
              "      <td>False</td>\n",
              "      <td>False</td>\n",
              "      <td>False</td>\n",
              "      <td>False</td>\n",
              "      <td>False</td>\n",
              "      <td>False</td>\n",
              "      <td>False</td>\n",
              "      <td>False</td>\n",
              "      <td>False</td>\n",
              "    </tr>\n",
              "    <tr>\n",
              "      <th>147</th>\n",
              "      <td>False</td>\n",
              "      <td>False</td>\n",
              "      <td>True</td>\n",
              "      <td>False</td>\n",
              "      <td>False</td>\n",
              "      <td>False</td>\n",
              "      <td>False</td>\n",
              "      <td>False</td>\n",
              "      <td>False</td>\n",
              "    </tr>\n",
              "    <tr>\n",
              "      <th>148</th>\n",
              "      <td>False</td>\n",
              "      <td>False</td>\n",
              "      <td>False</td>\n",
              "      <td>False</td>\n",
              "      <td>False</td>\n",
              "      <td>False</td>\n",
              "      <td>False</td>\n",
              "      <td>False</td>\n",
              "      <td>False</td>\n",
              "    </tr>\n",
              "    <tr>\n",
              "      <th>149</th>\n",
              "      <td>False</td>\n",
              "      <td>False</td>\n",
              "      <td>True</td>\n",
              "      <td>False</td>\n",
              "      <td>False</td>\n",
              "      <td>False</td>\n",
              "      <td>False</td>\n",
              "      <td>False</td>\n",
              "      <td>True</td>\n",
              "    </tr>\n",
              "  </tbody>\n",
              "</table>\n",
              "<p>150 rows × 9 columns</p>\n",
              "</div>\n",
              "      <button class=\"colab-df-convert\" onclick=\"convertToInteractive('df-b53f0f75-1512-45bd-ac4e-478de711aded')\"\n",
              "              title=\"Convert this dataframe to an interactive table.\"\n",
              "              style=\"display:none;\">\n",
              "        \n",
              "  <svg xmlns=\"http://www.w3.org/2000/svg\" height=\"24px\"viewBox=\"0 0 24 24\"\n",
              "       width=\"24px\">\n",
              "    <path d=\"M0 0h24v24H0V0z\" fill=\"none\"/>\n",
              "    <path d=\"M18.56 5.44l.94 2.06.94-2.06 2.06-.94-2.06-.94-.94-2.06-.94 2.06-2.06.94zm-11 1L8.5 8.5l.94-2.06 2.06-.94-2.06-.94L8.5 2.5l-.94 2.06-2.06.94zm10 10l.94 2.06.94-2.06 2.06-.94-2.06-.94-.94-2.06-.94 2.06-2.06.94z\"/><path d=\"M17.41 7.96l-1.37-1.37c-.4-.4-.92-.59-1.43-.59-.52 0-1.04.2-1.43.59L10.3 9.45l-7.72 7.72c-.78.78-.78 2.05 0 2.83L4 21.41c.39.39.9.59 1.41.59.51 0 1.02-.2 1.41-.59l7.78-7.78 2.81-2.81c.8-.78.8-2.07 0-2.86zM5.41 20L4 18.59l7.72-7.72 1.47 1.35L5.41 20z\"/>\n",
              "  </svg>\n",
              "      </button>\n",
              "      \n",
              "  <style>\n",
              "    .colab-df-container {\n",
              "      display:flex;\n",
              "      flex-wrap:wrap;\n",
              "      gap: 12px;\n",
              "    }\n",
              "\n",
              "    .colab-df-convert {\n",
              "      background-color: #E8F0FE;\n",
              "      border: none;\n",
              "      border-radius: 50%;\n",
              "      cursor: pointer;\n",
              "      display: none;\n",
              "      fill: #1967D2;\n",
              "      height: 32px;\n",
              "      padding: 0 0 0 0;\n",
              "      width: 32px;\n",
              "    }\n",
              "\n",
              "    .colab-df-convert:hover {\n",
              "      background-color: #E2EBFA;\n",
              "      box-shadow: 0px 1px 2px rgba(60, 64, 67, 0.3), 0px 1px 3px 1px rgba(60, 64, 67, 0.15);\n",
              "      fill: #174EA6;\n",
              "    }\n",
              "\n",
              "    [theme=dark] .colab-df-convert {\n",
              "      background-color: #3B4455;\n",
              "      fill: #D2E3FC;\n",
              "    }\n",
              "\n",
              "    [theme=dark] .colab-df-convert:hover {\n",
              "      background-color: #434B5C;\n",
              "      box-shadow: 0px 1px 3px 1px rgba(0, 0, 0, 0.15);\n",
              "      filter: drop-shadow(0px 1px 2px rgba(0, 0, 0, 0.3));\n",
              "      fill: #FFFFFF;\n",
              "    }\n",
              "  </style>\n",
              "\n",
              "      <script>\n",
              "        const buttonEl =\n",
              "          document.querySelector('#df-b53f0f75-1512-45bd-ac4e-478de711aded button.colab-df-convert');\n",
              "        buttonEl.style.display =\n",
              "          google.colab.kernel.accessAllowed ? 'block' : 'none';\n",
              "\n",
              "        async function convertToInteractive(key) {\n",
              "          const element = document.querySelector('#df-b53f0f75-1512-45bd-ac4e-478de711aded');\n",
              "          const dataTable =\n",
              "            await google.colab.kernel.invokeFunction('convertToInteractive',\n",
              "                                                     [key], {});\n",
              "          if (!dataTable) return;\n",
              "\n",
              "          const docLinkHtml = 'Like what you see? Visit the ' +\n",
              "            '<a target=\"_blank\" href=https://colab.research.google.com/notebooks/data_table.ipynb>data table notebook</a>'\n",
              "            + ' to learn more about interactive tables.';\n",
              "          element.innerHTML = '';\n",
              "          dataTable['output_type'] = 'display_data';\n",
              "          await google.colab.output.renderOutput(dataTable, element);\n",
              "          const docLink = document.createElement('div');\n",
              "          docLink.innerHTML = docLinkHtml;\n",
              "          element.appendChild(docLink);\n",
              "        }\n",
              "      </script>\n",
              "    </div>\n",
              "  </div>\n",
              "  "
            ],
            "text/plain": [
              "     Model  Selling.Price  Kilometers.Driven   Year  Owner  Fuel.Type  \\\n",
              "0    False          False              False  False  False      False   \n",
              "1    False          False              False  False  False      False   \n",
              "2    False          False              False  False  False      False   \n",
              "3    False          False              False  False  False      False   \n",
              "4    False          False               True  False  False      False   \n",
              "..     ...            ...                ...    ...    ...        ...   \n",
              "145  False          False              False  False  False      False   \n",
              "146  False          False              False  False  False      False   \n",
              "147  False          False               True  False  False      False   \n",
              "148  False          False              False  False  False      False   \n",
              "149  False          False               True  False  False      False   \n",
              "\n",
              "     Car.Condition  crash_record  interest_rate  \n",
              "0            False         False          False  \n",
              "1            False         False          False  \n",
              "2            False         False           True  \n",
              "3            False         False           True  \n",
              "4            False         False          False  \n",
              "..             ...           ...            ...  \n",
              "145          False         False          False  \n",
              "146          False         False          False  \n",
              "147          False         False          False  \n",
              "148          False         False          False  \n",
              "149          False         False           True  \n",
              "\n",
              "[150 rows x 9 columns]"
            ]
          },
          "execution_count": 3,
          "metadata": {},
          "output_type": "execute_result"
        }
      ],
      "source": [
        "dirtydata.isnull()"
      ]
    },
    {
      "cell_type": "markdown",
      "metadata": {
        "id": "ZvXz4oj75XMr"
      },
      "source": [
        "This shows us the total number of null values in each column."
      ]
    },
    {
      "cell_type": "code",
      "execution_count": null,
      "metadata": {
        "colab": {
          "base_uri": "https://localhost:8080/"
        },
        "id": "V_F-OKb4jJ-H",
        "outputId": "dcba7b6d-2fd7-4694-8a6a-15917ed59933"
      },
      "outputs": [
        {
          "data": {
            "text/plain": [
              "Model                12\n",
              "Selling.Price        14\n",
              "Kilometers.Driven    17\n",
              "Year                 14\n",
              "Owner                14\n",
              "Fuel.Type            13\n",
              "Car.Condition        16\n",
              "crash_record         17\n",
              "interest_rate        18\n",
              "dtype: int64"
            ]
          },
          "execution_count": 4,
          "metadata": {},
          "output_type": "execute_result"
        }
      ],
      "source": [
        "dirtydata.isnull().sum()"
      ]
    },
    {
      "cell_type": "markdown",
      "metadata": {
        "id": "AwLXfZbi6Ax7"
      },
      "source": [
        "To calculate total number of missing observations."
      ]
    },
    {
      "cell_type": "code",
      "execution_count": null,
      "metadata": {
        "colab": {
          "base_uri": "https://localhost:8080/"
        },
        "id": "MRIiUKFcjXAZ",
        "outputId": "b54071d8-1b05-43d3-9dac-fdda39d8e204"
      },
      "outputs": [
        {
          "data": {
            "text/plain": [
              "135"
            ]
          },
          "execution_count": 5,
          "metadata": {},
          "output_type": "execute_result"
        }
      ],
      "source": [
        "dirtydata.isnull().sum().sum()"
      ]
    },
    {
      "cell_type": "markdown",
      "metadata": {
        "id": "KSB80cag8zKF"
      },
      "source": [
        "This line is for checking if there are any duplicated observations, which there are not so we do not have to drop any duplicates."
      ]
    },
    {
      "cell_type": "code",
      "execution_count": null,
      "metadata": {
        "colab": {
          "base_uri": "https://localhost:8080/"
        },
        "id": "NoYlM27S9tJT",
        "outputId": "3b0e2df2-fe74-4a3d-ae84-89cd7e0338cd"
      },
      "outputs": [
        {
          "data": {
            "text/plain": [
              "0"
            ]
          },
          "execution_count": 6,
          "metadata": {},
          "output_type": "execute_result"
        }
      ],
      "source": [
        "dirtydata.duplicated().sum()"
      ]
    },
    {
      "cell_type": "markdown",
      "metadata": {
        "id": "FmXuIzj89Cf2"
      },
      "source": [
        "This shows the column names (titles) in the dataset."
      ]
    },
    {
      "cell_type": "code",
      "execution_count": null,
      "metadata": {
        "colab": {
          "base_uri": "https://localhost:8080/"
        },
        "id": "QhXBS_1ljyWP",
        "outputId": "dd635c33-2a2d-4bd9-9d70-4c49f1eb8a53"
      },
      "outputs": [
        {
          "data": {
            "text/plain": [
              "Index(['Model', 'Selling.Price', 'Kilometers.Driven', 'Year', 'Owner',\n",
              "       'Fuel.Type', 'Car.Condition', 'Crash_Record', 'Interest_Rate'],\n",
              "      dtype='object')"
            ]
          },
          "execution_count": 7,
          "metadata": {},
          "output_type": "execute_result"
        }
      ],
      "source": [
        "dirtydata.columns = dirtydata.columns.str.title()\n",
        "dirtydata.columns"
      ]
    },
    {
      "cell_type": "markdown",
      "metadata": {
        "id": "m3F0Uili_qDM"
      },
      "source": [
        "We fixed the title names to make them in same format."
      ]
    },
    {
      "cell_type": "code",
      "execution_count": null,
      "metadata": {
        "colab": {
          "base_uri": "https://localhost:8080/"
        },
        "id": "ahCcRPs-kbok",
        "outputId": "1a3bfb0b-330f-46d2-fce9-cd9f3f2c6434"
      },
      "outputs": [
        {
          "data": {
            "text/plain": [
              "Index(['Model', 'Selling Price', 'Kilometers Driven', 'Year', 'Owner',\n",
              "       'Fuel Type', 'Car Condition', 'Crash Record', 'Interest Rate'],\n",
              "      dtype='object')"
            ]
          },
          "execution_count": 8,
          "metadata": {},
          "output_type": "execute_result"
        }
      ],
      "source": [
        "dirtydata = dirtydata.rename({'Selling.Price': 'Selling Price'},axis = \"columns\")\n",
        "dirtydata.columns\n",
        "\n",
        "\n",
        "dirtydata = dirtydata.rename({'Kilometers.Driven': 'Kilometers Driven'},axis = \"columns\")\n",
        "dirtydata.columns\n",
        "\n",
        "dirtydata = dirtydata.rename({'Fuel.Type': 'Fuel Type'},axis = \"columns\")\n",
        "dirtydata.columns\n",
        "\n",
        "dirtydata = dirtydata.rename({'Car.Condition': 'Car Condition'},axis = \"columns\")\n",
        "dirtydata.columns\n",
        "\n",
        "dirtydata = dirtydata.rename({'Crash_Record': 'Crash Record'},axis = \"columns\")\n",
        "dirtydata.columns\n",
        "\n",
        "dirtydata = dirtydata.rename({'Interest_Rate': 'Interest Rate'},axis = \"columns\")\n",
        "dirtydata.columns"
      ]
    },
    {
      "cell_type": "markdown",
      "metadata": {
        "id": "s2MC0LQbAiGq"
      },
      "source": [
        "We arranged the numeric values' type as float."
      ]
    },
    {
      "cell_type": "code",
      "execution_count": null,
      "metadata": {
        "id": "PLxgxk5Qs2J8"
      },
      "outputs": [],
      "source": [
        "dirtydata['Selling Price'] = dirtydata['Selling Price'].astype(float)\n",
        "dirtydata['Kilometers Driven'] = dirtydata['Kilometers Driven'].astype(float)"
      ]
    },
    {
      "cell_type": "markdown",
      "metadata": {
        "id": "wRrSJSrIA4re"
      },
      "source": [
        "This gives the information about data types and non-null value counts."
      ]
    },
    {
      "cell_type": "code",
      "execution_count": null,
      "metadata": {
        "colab": {
          "base_uri": "https://localhost:8080/"
        },
        "id": "1AnBSqB9pxS-",
        "outputId": "d464bf72-8a16-44cf-f9e0-c4782ef71473"
      },
      "outputs": [
        {
          "name": "stdout",
          "output_type": "stream",
          "text": [
            "<class 'pandas.core.frame.DataFrame'>\n",
            "RangeIndex: 150 entries, 0 to 149\n",
            "Data columns (total 9 columns):\n",
            " #   Column             Non-Null Count  Dtype  \n",
            "---  ------             --------------  -----  \n",
            " 0   Model              138 non-null    object \n",
            " 1   Selling Price      136 non-null    float64\n",
            " 2   Kilometers Driven  133 non-null    float64\n",
            " 3   Year               136 non-null    float64\n",
            " 4   Owner              136 non-null    object \n",
            " 5   Fuel Type          137 non-null    object \n",
            " 6   Car Condition      134 non-null    float64\n",
            " 7   Crash Record       133 non-null    object \n",
            " 8   Interest Rate      132 non-null    float64\n",
            "dtypes: float64(5), object(4)\n",
            "memory usage: 10.7+ KB\n"
          ]
        }
      ],
      "source": [
        "dirtydata.info()"
      ]
    },
    {
      "cell_type": "markdown",
      "metadata": {
        "id": "KmhbprGfDplf"
      },
      "source": [
        "This code shows us the value counts in Selling Price."
      ]
    },
    {
      "cell_type": "code",
      "execution_count": null,
      "metadata": {
        "colab": {
          "base_uri": "https://localhost:8080/"
        },
        "id": "H_HeB_f2CoL0",
        "outputId": "5123fdef-470d-4ee7-ee82-b20bd1af08b3"
      },
      "outputs": [
        {
          "data": {
            "text/plain": [
              "5.846547e+11    8\n",
              "1.592990e+05    2\n",
              "3.051990e+05    2\n",
              "6.550990e+05    1\n",
              "3.075590e+05    1\n",
              "               ..\n",
              "2.518990e+05    1\n",
              "2.774990e+05    1\n",
              "2.900990e+05    1\n",
              "6.669990e+05    1\n",
              "3.083990e+05    1\n",
              "Name: Selling Price, Length: 127, dtype: int64"
            ]
          },
          "execution_count": 11,
          "metadata": {},
          "output_type": "execute_result"
        }
      ],
      "source": [
        "dirtydata['Selling Price'].value_counts()"
      ]
    },
    {
      "cell_type": "markdown",
      "metadata": {
        "id": "IW2eKhSQNU0E"
      },
      "source": [
        "This code creates a frequency table to examine the values better and detect irrelevant values."
      ]
    },
    {
      "cell_type": "code",
      "execution_count": null,
      "metadata": {
        "colab": {
          "base_uri": "https://localhost:8080/"
        },
        "id": "5GUsv0VBMqHN",
        "outputId": "16e67acf-cdc6-4d7e-892e-e6a375ec45af"
      },
      "outputs": [
        {
          "name": "stdout",
          "output_type": "stream",
          "text": [
            "MarutiSwift                 11\n",
            "MarutiWagonR1.0              5\n",
            "MarutiAltoK10                4\n",
            "Hyundaii10MAGNA1.2           3\n",
            "HondaBrio1.2SMTI             3\n",
            "                            ..\n",
            "MarutiBalenoDELTA1.2         1\n",
            "FordNewFigo1.5TITANIUMAT     1\n",
            "Hyundaii10SPORTZ             1\n",
            "MarutiAltoK10VXI             1\n",
            "MarutiRitz                   1\n",
            "Name: Model, Length: 91, dtype: int64\n",
            "First Owner     112\n",
            "Second Owner     19\n",
            "Third Owner       5\n",
            "Name: Owner, dtype: int64\n",
            "Petrol          73\n",
            "Diesel          43\n",
            " petROL         14\n",
            "Petrol + CNG     7\n",
            "Name: Fuel Type, dtype: int64\n",
            "no    133\n",
            "Name: Crash Record, dtype: int64\n"
          ]
        }
      ],
      "source": [
        "for i in dirtydata.select_dtypes(include = 'object').columns:\n",
        "  print(dirtydata[i].value_counts())"
      ]
    },
    {
      "cell_type": "markdown",
      "metadata": {
        "id": "FV7HX0aKB_R2"
      },
      "source": [
        "Next two lines of codes are for fixing a wrong entered data value in Selling Price and Fuel Type."
      ]
    },
    {
      "cell_type": "code",
      "execution_count": null,
      "metadata": {
        "colab": {
          "base_uri": "https://localhost:8080/"
        },
        "id": "rOFd2sonVxka",
        "outputId": "29aeeb1f-c7b0-43f1-b658-80084184a5d5"
      },
      "outputs": [],
      "source": [
        "dirtydata['Selling Price'].loc[dirtydata['Selling Price']==\"5,84655E+11\"]  = '584655'"
      ]
    },
    {
      "cell_type": "code",
      "execution_count": null,
      "metadata": {
        "colab": {
          "base_uri": "https://localhost:8080/"
        },
        "id": "ANs_ogoPLK15",
        "outputId": "ee1a2a90-2142-4065-8f78-1121d2059639"
      },
      "outputs": [
        {
          "data": {
            "text/plain": [
              "Petrol          87\n",
              "Diesel          43\n",
              "Petrol + CNG     7\n",
              "Name: Fuel Type, dtype: int64"
            ]
          },
          "execution_count": 14,
          "metadata": {},
          "output_type": "execute_result"
        }
      ],
      "source": [
        "dirtydata['Fuel Type'].loc[dirtydata['Fuel Type']==\" petROL\"]  = 'Petrol'\n",
        "dirtydata['Fuel Type'].value_counts()"
      ]
    },
    {
      "cell_type": "markdown",
      "metadata": {
        "id": "vlR6-87qh_VU"
      },
      "source": [
        "This is for capitalizing all the values for a better look."
      ]
    },
    {
      "cell_type": "code",
      "execution_count": null,
      "metadata": {
        "colab": {
          "base_uri": "https://localhost:8080/"
        },
        "id": "TUxUOu1FX6iu",
        "outputId": "8bf880c5-cc0d-4175-944e-d6708adcc7cd"
      },
      "outputs": [
        {
          "name": "stdout",
          "output_type": "stream",
          "text": [
            "0      No\n",
            "1      No\n",
            "2      No\n",
            "3      No\n",
            "4      No\n",
            "       ..\n",
            "145    No\n",
            "146    No\n",
            "147    No\n",
            "148    No\n",
            "149    No\n",
            "Name: Crash Record, Length: 150, dtype: object\n"
          ]
        }
      ],
      "source": [
        "dirtydata['Crash Record'] = dirtydata['Crash Record'].str.title()\n",
        "print(dirtydata[\"Crash Record\"].str.capitalize())"
      ]
    },
    {
      "cell_type": "markdown",
      "metadata": {
        "id": "oExEY7B9ZSes"
      },
      "source": [
        "This is for filling the missing values with 0 for further phases."
      ]
    },
    {
      "cell_type": "code",
      "execution_count": null,
      "metadata": {
        "colab": {
          "base_uri": "https://localhost:8080/",
          "height": 670
        },
        "id": "0qBBhSfXcs6j",
        "outputId": "40eb62bd-5e2c-46e0-c6f5-802b37378f9d"
      },
      "outputs": [
        {
          "data": {
            "text/html": [
              "\n",
              "  <div id=\"df-27f531a1-8846-47a5-9499-96ef916c9363\">\n",
              "    <div class=\"colab-df-container\">\n",
              "      <div>\n",
              "<style scoped>\n",
              "    .dataframe tbody tr th:only-of-type {\n",
              "        vertical-align: middle;\n",
              "    }\n",
              "\n",
              "    .dataframe tbody tr th {\n",
              "        vertical-align: top;\n",
              "    }\n",
              "\n",
              "    .dataframe thead th {\n",
              "        text-align: right;\n",
              "    }\n",
              "</style>\n",
              "<table border=\"1\" class=\"dataframe\">\n",
              "  <thead>\n",
              "    <tr style=\"text-align: right;\">\n",
              "      <th></th>\n",
              "      <th>Model</th>\n",
              "      <th>Selling Price</th>\n",
              "      <th>Kilometers Driven</th>\n",
              "      <th>Year</th>\n",
              "      <th>Owner</th>\n",
              "      <th>Fuel Type</th>\n",
              "      <th>Car Condition</th>\n",
              "      <th>Crash Record</th>\n",
              "      <th>Interest Rate</th>\n",
              "    </tr>\n",
              "  </thead>\n",
              "  <tbody>\n",
              "    <tr>\n",
              "      <th>0</th>\n",
              "      <td>MarutiSwiftDzireVDI</td>\n",
              "      <td>655099.0</td>\n",
              "      <td>34078.0</td>\n",
              "      <td>2016.0</td>\n",
              "      <td>First Owner</td>\n",
              "      <td>Diesel</td>\n",
              "      <td>4.6</td>\n",
              "      <td>No</td>\n",
              "      <td>8.097642</td>\n",
              "    </tr>\n",
              "    <tr>\n",
              "      <th>1</th>\n",
              "      <td>MarutiSwiftDzireVDIBS</td>\n",
              "      <td>357799.0</td>\n",
              "      <td>121017.0</td>\n",
              "      <td>2011.0</td>\n",
              "      <td>First Owner</td>\n",
              "      <td>Diesel</td>\n",
              "      <td>4.3</td>\n",
              "      <td>No</td>\n",
              "      <td>5.504414</td>\n",
              "    </tr>\n",
              "    <tr>\n",
              "      <th>2</th>\n",
              "      <td>MarutiAltoK10</td>\n",
              "      <td>246499.0</td>\n",
              "      <td>95412.0</td>\n",
              "      <td>2015.0</td>\n",
              "      <td>First Owner</td>\n",
              "      <td>Petrol</td>\n",
              "      <td>4.1</td>\n",
              "      <td>No</td>\n",
              "      <td>0.000000</td>\n",
              "    </tr>\n",
              "    <tr>\n",
              "      <th>3</th>\n",
              "      <td>HondaCityVMT</td>\n",
              "      <td>898699.0</td>\n",
              "      <td>7349.0</td>\n",
              "      <td>2018.0</td>\n",
              "      <td>First Owner</td>\n",
              "      <td>Petrol</td>\n",
              "      <td>4.9</td>\n",
              "      <td>No</td>\n",
              "      <td>0.000000</td>\n",
              "    </tr>\n",
              "    <tr>\n",
              "      <th>4</th>\n",
              "      <td>HyundaiVernaFLUIDIC1.6SXCRDI</td>\n",
              "      <td>501899.0</td>\n",
              "      <td>0.0</td>\n",
              "      <td>2013.0</td>\n",
              "      <td>First Owner</td>\n",
              "      <td>Diesel</td>\n",
              "      <td>4.4</td>\n",
              "      <td>No</td>\n",
              "      <td>6.838781</td>\n",
              "    </tr>\n",
              "    <tr>\n",
              "      <th>...</th>\n",
              "      <td>...</td>\n",
              "      <td>...</td>\n",
              "      <td>...</td>\n",
              "      <td>...</td>\n",
              "      <td>...</td>\n",
              "      <td>...</td>\n",
              "      <td>...</td>\n",
              "      <td>...</td>\n",
              "      <td>...</td>\n",
              "    </tr>\n",
              "    <tr>\n",
              "      <th>145</th>\n",
              "      <td>RenaultDuster85PS</td>\n",
              "      <td>484699.0</td>\n",
              "      <td>67407.0</td>\n",
              "      <td>2015.0</td>\n",
              "      <td>First Owner</td>\n",
              "      <td>Diesel</td>\n",
              "      <td>4.5</td>\n",
              "      <td>No</td>\n",
              "      <td>6.879647</td>\n",
              "    </tr>\n",
              "    <tr>\n",
              "      <th>146</th>\n",
              "      <td>Hyundaii10MAGNA1.2</td>\n",
              "      <td>285199.0</td>\n",
              "      <td>57031.0</td>\n",
              "      <td>2013.0</td>\n",
              "      <td>Second Owner</td>\n",
              "      <td>Petrol</td>\n",
              "      <td>4.3</td>\n",
              "      <td>No</td>\n",
              "      <td>4.279958</td>\n",
              "    </tr>\n",
              "    <tr>\n",
              "      <th>147</th>\n",
              "      <td>HondaCity1.5EMT</td>\n",
              "      <td>342999.0</td>\n",
              "      <td>0.0</td>\n",
              "      <td>2009.0</td>\n",
              "      <td>First Owner</td>\n",
              "      <td>Petrol</td>\n",
              "      <td>4.2</td>\n",
              "      <td>No</td>\n",
              "      <td>5.567457</td>\n",
              "    </tr>\n",
              "    <tr>\n",
              "      <th>148</th>\n",
              "      <td>HondaCitySMT</td>\n",
              "      <td>259899.0</td>\n",
              "      <td>99003.0</td>\n",
              "      <td>2009.0</td>\n",
              "      <td>Second Owner</td>\n",
              "      <td>Petrol</td>\n",
              "      <td>4.6</td>\n",
              "      <td>No</td>\n",
              "      <td>4.551381</td>\n",
              "    </tr>\n",
              "    <tr>\n",
              "      <th>149</th>\n",
              "      <td>MarutiRitz</td>\n",
              "      <td>308399.0</td>\n",
              "      <td>0.0</td>\n",
              "      <td>2009.0</td>\n",
              "      <td>First Owner</td>\n",
              "      <td>Petrol</td>\n",
              "      <td>3.9</td>\n",
              "      <td>No</td>\n",
              "      <td>0.000000</td>\n",
              "    </tr>\n",
              "  </tbody>\n",
              "</table>\n",
              "<p>150 rows × 9 columns</p>\n",
              "</div>\n",
              "      <button class=\"colab-df-convert\" onclick=\"convertToInteractive('df-27f531a1-8846-47a5-9499-96ef916c9363')\"\n",
              "              title=\"Convert this dataframe to an interactive table.\"\n",
              "              style=\"display:none;\">\n",
              "        \n",
              "  <svg xmlns=\"http://www.w3.org/2000/svg\" height=\"24px\"viewBox=\"0 0 24 24\"\n",
              "       width=\"24px\">\n",
              "    <path d=\"M0 0h24v24H0V0z\" fill=\"none\"/>\n",
              "    <path d=\"M18.56 5.44l.94 2.06.94-2.06 2.06-.94-2.06-.94-.94-2.06-.94 2.06-2.06.94zm-11 1L8.5 8.5l.94-2.06 2.06-.94-2.06-.94L8.5 2.5l-.94 2.06-2.06.94zm10 10l.94 2.06.94-2.06 2.06-.94-2.06-.94-.94-2.06-.94 2.06-2.06.94z\"/><path d=\"M17.41 7.96l-1.37-1.37c-.4-.4-.92-.59-1.43-.59-.52 0-1.04.2-1.43.59L10.3 9.45l-7.72 7.72c-.78.78-.78 2.05 0 2.83L4 21.41c.39.39.9.59 1.41.59.51 0 1.02-.2 1.41-.59l7.78-7.78 2.81-2.81c.8-.78.8-2.07 0-2.86zM5.41 20L4 18.59l7.72-7.72 1.47 1.35L5.41 20z\"/>\n",
              "  </svg>\n",
              "      </button>\n",
              "      \n",
              "  <style>\n",
              "    .colab-df-container {\n",
              "      display:flex;\n",
              "      flex-wrap:wrap;\n",
              "      gap: 12px;\n",
              "    }\n",
              "\n",
              "    .colab-df-convert {\n",
              "      background-color: #E8F0FE;\n",
              "      border: none;\n",
              "      border-radius: 50%;\n",
              "      cursor: pointer;\n",
              "      display: none;\n",
              "      fill: #1967D2;\n",
              "      height: 32px;\n",
              "      padding: 0 0 0 0;\n",
              "      width: 32px;\n",
              "    }\n",
              "\n",
              "    .colab-df-convert:hover {\n",
              "      background-color: #E2EBFA;\n",
              "      box-shadow: 0px 1px 2px rgba(60, 64, 67, 0.3), 0px 1px 3px 1px rgba(60, 64, 67, 0.15);\n",
              "      fill: #174EA6;\n",
              "    }\n",
              "\n",
              "    [theme=dark] .colab-df-convert {\n",
              "      background-color: #3B4455;\n",
              "      fill: #D2E3FC;\n",
              "    }\n",
              "\n",
              "    [theme=dark] .colab-df-convert:hover {\n",
              "      background-color: #434B5C;\n",
              "      box-shadow: 0px 1px 3px 1px rgba(0, 0, 0, 0.15);\n",
              "      filter: drop-shadow(0px 1px 2px rgba(0, 0, 0, 0.3));\n",
              "      fill: #FFFFFF;\n",
              "    }\n",
              "  </style>\n",
              "\n",
              "      <script>\n",
              "        const buttonEl =\n",
              "          document.querySelector('#df-27f531a1-8846-47a5-9499-96ef916c9363 button.colab-df-convert');\n",
              "        buttonEl.style.display =\n",
              "          google.colab.kernel.accessAllowed ? 'block' : 'none';\n",
              "\n",
              "        async function convertToInteractive(key) {\n",
              "          const element = document.querySelector('#df-27f531a1-8846-47a5-9499-96ef916c9363');\n",
              "          const dataTable =\n",
              "            await google.colab.kernel.invokeFunction('convertToInteractive',\n",
              "                                                     [key], {});\n",
              "          if (!dataTable) return;\n",
              "\n",
              "          const docLinkHtml = 'Like what you see? Visit the ' +\n",
              "            '<a target=\"_blank\" href=https://colab.research.google.com/notebooks/data_table.ipynb>data table notebook</a>'\n",
              "            + ' to learn more about interactive tables.';\n",
              "          element.innerHTML = '';\n",
              "          dataTable['output_type'] = 'display_data';\n",
              "          await google.colab.output.renderOutput(dataTable, element);\n",
              "          const docLink = document.createElement('div');\n",
              "          docLink.innerHTML = docLinkHtml;\n",
              "          element.appendChild(docLink);\n",
              "        }\n",
              "      </script>\n",
              "    </div>\n",
              "  </div>\n",
              "  "
            ],
            "text/plain": [
              "                            Model  Selling Price  Kilometers Driven    Year  \\\n",
              "0             MarutiSwiftDzireVDI       655099.0            34078.0  2016.0   \n",
              "1           MarutiSwiftDzireVDIBS       357799.0           121017.0  2011.0   \n",
              "2                   MarutiAltoK10       246499.0            95412.0  2015.0   \n",
              "3                    HondaCityVMT       898699.0             7349.0  2018.0   \n",
              "4    HyundaiVernaFLUIDIC1.6SXCRDI       501899.0                0.0  2013.0   \n",
              "..                            ...            ...                ...     ...   \n",
              "145             RenaultDuster85PS       484699.0            67407.0  2015.0   \n",
              "146            Hyundaii10MAGNA1.2       285199.0            57031.0  2013.0   \n",
              "147               HondaCity1.5EMT       342999.0                0.0  2009.0   \n",
              "148                  HondaCitySMT       259899.0            99003.0  2009.0   \n",
              "149                    MarutiRitz       308399.0                0.0  2009.0   \n",
              "\n",
              "            Owner Fuel Type  Car Condition Crash Record  Interest Rate  \n",
              "0     First Owner    Diesel            4.6           No       8.097642  \n",
              "1     First Owner    Diesel            4.3           No       5.504414  \n",
              "2     First Owner    Petrol            4.1           No       0.000000  \n",
              "3     First Owner    Petrol            4.9           No       0.000000  \n",
              "4     First Owner    Diesel            4.4           No       6.838781  \n",
              "..            ...       ...            ...          ...            ...  \n",
              "145   First Owner    Diesel            4.5           No       6.879647  \n",
              "146  Second Owner    Petrol            4.3           No       4.279958  \n",
              "147   First Owner    Petrol            4.2           No       5.567457  \n",
              "148  Second Owner    Petrol            4.6           No       4.551381  \n",
              "149   First Owner    Petrol            3.9           No       0.000000  \n",
              "\n",
              "[150 rows x 9 columns]"
            ]
          },
          "execution_count": 16,
          "metadata": {},
          "output_type": "execute_result"
        }
      ],
      "source": [
        "dirtydata.fillna(0)"
      ]
    },
    {
      "cell_type": "markdown",
      "metadata": {
        "id": "dE7Hy5W9bsHG"
      },
      "source": [
        "In the next several line of codes, we changed missing categorical values of the dataset with their modes."
      ]
    },
    {
      "cell_type": "code",
      "execution_count": null,
      "metadata": {
        "id": "PTTTkmA4Xpqt"
      },
      "outputs": [],
      "source": [
        "dirtydata['Crash Record'] = dirtydata['Crash Record'].fillna(dirtydata['Crash Record'].mode()[0])"
      ]
    },
    {
      "cell_type": "code",
      "execution_count": null,
      "metadata": {
        "id": "xJxNInZJYEaO"
      },
      "outputs": [],
      "source": [
        "mode = dirtydata['Fuel Type'].mode()"
      ]
    },
    {
      "cell_type": "code",
      "execution_count": null,
      "metadata": {
        "id": "2nf1VOdCpZPj"
      },
      "outputs": [],
      "source": [
        "dirtydata['Fuel Type'] = dirtydata['Fuel Type'].fillna(dirtydata['Fuel Type'].mode()[0])"
      ]
    },
    {
      "cell_type": "code",
      "execution_count": null,
      "metadata": {
        "id": "1rArkfU0YoR1"
      },
      "outputs": [],
      "source": [
        "mode = dirtydata['Car Condition'].mode()"
      ]
    },
    {
      "cell_type": "code",
      "execution_count": null,
      "metadata": {
        "id": "38NPcsVVYuw3"
      },
      "outputs": [],
      "source": [
        "dirtydata['Car Condition'] = dirtydata['Car Condition'].fillna(dirtydata['Car Condition'].mode()[0])"
      ]
    },
    {
      "cell_type": "code",
      "execution_count": null,
      "metadata": {
        "id": "T4hSuXneZESa"
      },
      "outputs": [],
      "source": [
        "mode = dirtydata['Year'].mode()"
      ]
    },
    {
      "cell_type": "code",
      "execution_count": null,
      "metadata": {
        "id": "d0AN1UVlZG6X"
      },
      "outputs": [],
      "source": [
        "dirtydata['Year'] = dirtydata['Year'].fillna(dirtydata['Year'].mode()[0])"
      ]
    },
    {
      "cell_type": "code",
      "execution_count": null,
      "metadata": {
        "id": "NfaIoB_SZaug"
      },
      "outputs": [],
      "source": [
        "mode = dirtydata['Model'].mode()"
      ]
    },
    {
      "cell_type": "code",
      "execution_count": null,
      "metadata": {
        "id": "5EL_IfEFZdTN"
      },
      "outputs": [],
      "source": [
        "dirtydata['Model'] = dirtydata['Model'].fillna(dirtydata['Model'].mode()[0])"
      ]
    },
    {
      "cell_type": "code",
      "execution_count": null,
      "metadata": {
        "id": "IrF-I6Iea0cY"
      },
      "outputs": [],
      "source": [
        "mode = dirtydata['Owner'].mode()"
      ]
    },
    {
      "cell_type": "code",
      "execution_count": null,
      "metadata": {
        "id": "H9gczjbLa4PI"
      },
      "outputs": [],
      "source": [
        "dirtydata['Owner'] = dirtydata['Owner'].fillna(dirtydata['Owner'].mode()[0])"
      ]
    },
    {
      "cell_type": "code",
      "execution_count": null,
      "metadata": {
        "id": "QjCltL2ObG-I"
      },
      "outputs": [],
      "source": [
        "mode = dirtydata['Interest Rate'].mode()"
      ]
    },
    {
      "cell_type": "code",
      "execution_count": null,
      "metadata": {
        "id": "-9gCb30IbNix"
      },
      "outputs": [],
      "source": [
        "dirtydata['Interest Rate'] = dirtydata['Interest Rate'].fillna(dirtydata['Interest Rate'].mode()[0])"
      ]
    },
    {
      "cell_type": "code",
      "execution_count": null,
      "metadata": {
        "id": "ire9ch5Qf9sZ"
      },
      "outputs": [],
      "source": [
        "mode = dirtydata['Model'].mode()"
      ]
    },
    {
      "cell_type": "code",
      "execution_count": null,
      "metadata": {
        "id": "LOxbXB6RgBKP"
      },
      "outputs": [],
      "source": [
        "dirtydata['Model'] = dirtydata['Model'].fillna(dirtydata['Model'].mode()[0])"
      ]
    },
    {
      "cell_type": "markdown",
      "metadata": {
        "id": "uwgIZbRjclpp"
      },
      "source": [
        "Since Selling Price does not have any  outliers, we replaced the wrong entered and missing values with mean."
      ]
    },
    {
      "cell_type": "code",
      "execution_count": null,
      "metadata": {
        "id": "SkX_Xf6hmi7r"
      },
      "outputs": [],
      "source": [
        "dirtydata[\"Selling Price\"] = dirtydata[\"Selling Price\"].replace([584654655365.0],np.nan) \n",
        "dirtydata[\"Selling Price\"] = dirtydata[\"Selling Price\"].replace([0],np.nan) \n",
        "dirtydata[\"Selling Price\"] = dirtydata[\"Selling Price\"].replace([np.nan],dirtydata[\"Selling Price\"].mean()) "
      ]
    },
    {
      "cell_type": "markdown",
      "metadata": {
        "id": "phwZwgvLeXvH"
      },
      "source": [
        "Since Kilometers Driven have outliers, we replaced the wrong entered and missing values with median.\n",
        "\n",
        "\n"
      ]
    },
    {
      "cell_type": "code",
      "execution_count": null,
      "metadata": {
        "id": "e_fYyRF9nfAt"
      },
      "outputs": [],
      "source": [
        "dirtydata[\"Kilometers Driven\"] =dirtydata[\"Kilometers Driven\"].replace([999999999999.0],np.nan)  \n",
        "m = dirtydata[\"Kilometers Driven\"].replace([855881.0],np.nan).median()\n",
        "dirtydata[\"Kilometers Driven\"] =dirtydata[\"Kilometers Driven\"].replace([np.nan],m)"
      ]
    },
    {
      "cell_type": "markdown",
      "metadata": {
        "id": "D4QwgRGXkAb_"
      },
      "source": [
        "First five observations of the clean data."
      ]
    },
    {
      "cell_type": "code",
      "execution_count": null,
      "metadata": {
        "colab": {
          "base_uri": "https://localhost:8080/",
          "height": 350
        },
        "id": "XcaIhSP7ta6x",
        "outputId": "34558e39-d09c-48fd-e90e-a5d1dfe31a8c"
      },
      "outputs": [
        {
          "data": {
            "text/html": [
              "\n",
              "  <div id=\"df-ae718f15-2e88-4721-8adf-4e098cfdd169\">\n",
              "    <div class=\"colab-df-container\">\n",
              "      <div>\n",
              "<style scoped>\n",
              "    .dataframe tbody tr th:only-of-type {\n",
              "        vertical-align: middle;\n",
              "    }\n",
              "\n",
              "    .dataframe tbody tr th {\n",
              "        vertical-align: top;\n",
              "    }\n",
              "\n",
              "    .dataframe thead th {\n",
              "        text-align: right;\n",
              "    }\n",
              "</style>\n",
              "<table border=\"1\" class=\"dataframe\">\n",
              "  <thead>\n",
              "    <tr style=\"text-align: right;\">\n",
              "      <th></th>\n",
              "      <th>Model</th>\n",
              "      <th>Selling Price</th>\n",
              "      <th>Kilometers Driven</th>\n",
              "      <th>Year</th>\n",
              "      <th>Owner</th>\n",
              "      <th>Fuel Type</th>\n",
              "      <th>Car Condition</th>\n",
              "      <th>Crash Record</th>\n",
              "      <th>Interest Rate</th>\n",
              "    </tr>\n",
              "  </thead>\n",
              "  <tbody>\n",
              "    <tr>\n",
              "      <th>0</th>\n",
              "      <td>MarutiSwiftDzireVDI</td>\n",
              "      <td>655099.0</td>\n",
              "      <td>34078.0</td>\n",
              "      <td>2016.0</td>\n",
              "      <td>First Owner</td>\n",
              "      <td>Diesel</td>\n",
              "      <td>4.6</td>\n",
              "      <td>No</td>\n",
              "      <td>8.097642</td>\n",
              "    </tr>\n",
              "    <tr>\n",
              "      <th>1</th>\n",
              "      <td>MarutiSwiftDzireVDIBS</td>\n",
              "      <td>357799.0</td>\n",
              "      <td>121017.0</td>\n",
              "      <td>2011.0</td>\n",
              "      <td>First Owner</td>\n",
              "      <td>Diesel</td>\n",
              "      <td>4.3</td>\n",
              "      <td>No</td>\n",
              "      <td>5.504414</td>\n",
              "    </tr>\n",
              "    <tr>\n",
              "      <th>2</th>\n",
              "      <td>MarutiAltoK10</td>\n",
              "      <td>246499.0</td>\n",
              "      <td>95412.0</td>\n",
              "      <td>2015.0</td>\n",
              "      <td>First Owner</td>\n",
              "      <td>Petrol</td>\n",
              "      <td>4.1</td>\n",
              "      <td>No</td>\n",
              "      <td>2.677957</td>\n",
              "    </tr>\n",
              "    <tr>\n",
              "      <th>3</th>\n",
              "      <td>HondaCityVMT</td>\n",
              "      <td>898699.0</td>\n",
              "      <td>7349.0</td>\n",
              "      <td>2018.0</td>\n",
              "      <td>First Owner</td>\n",
              "      <td>Petrol</td>\n",
              "      <td>4.9</td>\n",
              "      <td>No</td>\n",
              "      <td>2.677957</td>\n",
              "    </tr>\n",
              "    <tr>\n",
              "      <th>4</th>\n",
              "      <td>HyundaiVernaFLUIDIC1.6SXCRDI</td>\n",
              "      <td>501899.0</td>\n",
              "      <td>53900.5</td>\n",
              "      <td>2013.0</td>\n",
              "      <td>First Owner</td>\n",
              "      <td>Diesel</td>\n",
              "      <td>4.4</td>\n",
              "      <td>No</td>\n",
              "      <td>6.838781</td>\n",
              "    </tr>\n",
              "  </tbody>\n",
              "</table>\n",
              "</div>\n",
              "      <button class=\"colab-df-convert\" onclick=\"convertToInteractive('df-ae718f15-2e88-4721-8adf-4e098cfdd169')\"\n",
              "              title=\"Convert this dataframe to an interactive table.\"\n",
              "              style=\"display:none;\">\n",
              "        \n",
              "  <svg xmlns=\"http://www.w3.org/2000/svg\" height=\"24px\"viewBox=\"0 0 24 24\"\n",
              "       width=\"24px\">\n",
              "    <path d=\"M0 0h24v24H0V0z\" fill=\"none\"/>\n",
              "    <path d=\"M18.56 5.44l.94 2.06.94-2.06 2.06-.94-2.06-.94-.94-2.06-.94 2.06-2.06.94zm-11 1L8.5 8.5l.94-2.06 2.06-.94-2.06-.94L8.5 2.5l-.94 2.06-2.06.94zm10 10l.94 2.06.94-2.06 2.06-.94-2.06-.94-.94-2.06-.94 2.06-2.06.94z\"/><path d=\"M17.41 7.96l-1.37-1.37c-.4-.4-.92-.59-1.43-.59-.52 0-1.04.2-1.43.59L10.3 9.45l-7.72 7.72c-.78.78-.78 2.05 0 2.83L4 21.41c.39.39.9.59 1.41.59.51 0 1.02-.2 1.41-.59l7.78-7.78 2.81-2.81c.8-.78.8-2.07 0-2.86zM5.41 20L4 18.59l7.72-7.72 1.47 1.35L5.41 20z\"/>\n",
              "  </svg>\n",
              "      </button>\n",
              "      \n",
              "  <style>\n",
              "    .colab-df-container {\n",
              "      display:flex;\n",
              "      flex-wrap:wrap;\n",
              "      gap: 12px;\n",
              "    }\n",
              "\n",
              "    .colab-df-convert {\n",
              "      background-color: #E8F0FE;\n",
              "      border: none;\n",
              "      border-radius: 50%;\n",
              "      cursor: pointer;\n",
              "      display: none;\n",
              "      fill: #1967D2;\n",
              "      height: 32px;\n",
              "      padding: 0 0 0 0;\n",
              "      width: 32px;\n",
              "    }\n",
              "\n",
              "    .colab-df-convert:hover {\n",
              "      background-color: #E2EBFA;\n",
              "      box-shadow: 0px 1px 2px rgba(60, 64, 67, 0.3), 0px 1px 3px 1px rgba(60, 64, 67, 0.15);\n",
              "      fill: #174EA6;\n",
              "    }\n",
              "\n",
              "    [theme=dark] .colab-df-convert {\n",
              "      background-color: #3B4455;\n",
              "      fill: #D2E3FC;\n",
              "    }\n",
              "\n",
              "    [theme=dark] .colab-df-convert:hover {\n",
              "      background-color: #434B5C;\n",
              "      box-shadow: 0px 1px 3px 1px rgba(0, 0, 0, 0.15);\n",
              "      filter: drop-shadow(0px 1px 2px rgba(0, 0, 0, 0.3));\n",
              "      fill: #FFFFFF;\n",
              "    }\n",
              "  </style>\n",
              "\n",
              "      <script>\n",
              "        const buttonEl =\n",
              "          document.querySelector('#df-ae718f15-2e88-4721-8adf-4e098cfdd169 button.colab-df-convert');\n",
              "        buttonEl.style.display =\n",
              "          google.colab.kernel.accessAllowed ? 'block' : 'none';\n",
              "\n",
              "        async function convertToInteractive(key) {\n",
              "          const element = document.querySelector('#df-ae718f15-2e88-4721-8adf-4e098cfdd169');\n",
              "          const dataTable =\n",
              "            await google.colab.kernel.invokeFunction('convertToInteractive',\n",
              "                                                     [key], {});\n",
              "          if (!dataTable) return;\n",
              "\n",
              "          const docLinkHtml = 'Like what you see? Visit the ' +\n",
              "            '<a target=\"_blank\" href=https://colab.research.google.com/notebooks/data_table.ipynb>data table notebook</a>'\n",
              "            + ' to learn more about interactive tables.';\n",
              "          element.innerHTML = '';\n",
              "          dataTable['output_type'] = 'display_data';\n",
              "          await google.colab.output.renderOutput(dataTable, element);\n",
              "          const docLink = document.createElement('div');\n",
              "          docLink.innerHTML = docLinkHtml;\n",
              "          element.appendChild(docLink);\n",
              "        }\n",
              "      </script>\n",
              "    </div>\n",
              "  </div>\n",
              "  "
            ],
            "text/plain": [
              "                          Model  Selling Price  Kilometers Driven    Year  \\\n",
              "0           MarutiSwiftDzireVDI       655099.0            34078.0  2016.0   \n",
              "1         MarutiSwiftDzireVDIBS       357799.0           121017.0  2011.0   \n",
              "2                 MarutiAltoK10       246499.0            95412.0  2015.0   \n",
              "3                  HondaCityVMT       898699.0             7349.0  2018.0   \n",
              "4  HyundaiVernaFLUIDIC1.6SXCRDI       501899.0            53900.5  2013.0   \n",
              "\n",
              "         Owner Fuel Type  Car Condition Crash Record  Interest Rate  \n",
              "0  First Owner    Diesel            4.6           No       8.097642  \n",
              "1  First Owner    Diesel            4.3           No       5.504414  \n",
              "2  First Owner    Petrol            4.1           No       2.677957  \n",
              "3  First Owner    Petrol            4.9           No       2.677957  \n",
              "4  First Owner    Diesel            4.4           No       6.838781  "
            ]
          },
          "execution_count": 34,
          "metadata": {},
          "output_type": "execute_result"
        }
      ],
      "source": [
        "dirtydata.head() "
      ]
    },
    {
      "cell_type": "markdown",
      "metadata": {
        "id": "_2Tv9bpNkG3c"
      },
      "source": [
        "This converts the clean data into an excel file."
      ]
    },
    {
      "cell_type": "code",
      "execution_count": null,
      "metadata": {
        "id": "2L8xo40m5Bme"
      },
      "outputs": [],
      "source": [
        "dirtydata.to_excel(\"cleandata2.xlsx\")"
      ]
    },
    {
      "cell_type": "markdown",
      "metadata": {
        "id": "eEeJEYlognM1"
      },
      "source": [
        "To start data visualizing we imported matplotlib, seaborn, matplotlib.pyplot, numpy and pandas."
      ]
    },
    {
      "cell_type": "code",
      "execution_count": 1,
      "metadata": {
        "id": "xQrx3P6Sg1q2"
      },
      "outputs": [],
      "source": [
        "import pandas as pd\n",
        "import matplotlib as plt \n",
        "import numpy as np\n",
        "import seaborn as sns\n",
        "import matplotlib.pyplot as plt"
      ]
    },
    {
      "cell_type": "markdown",
      "metadata": {
        "id": "YSxe4yYtg4mZ"
      },
      "source": [
        "This code reads the data we cleaned, now we can start visualizing."
      ]
    },
    {
      "cell_type": "code",
      "execution_count": 3,
      "metadata": {
        "id": "2qSsoVJJg4LC"
      },
      "outputs": [],
      "source": [
        "a = pd.read_excel(\"cleandata2.xlsx\")"
      ]
    },
    {
      "cell_type": "markdown",
      "metadata": {
        "id": "kfHYzXcIh6df"
      },
      "source": [
        "Bar graph of Owner value counts made using seaborn."
      ]
    },
    {
      "cell_type": "code",
      "execution_count": 4,
      "metadata": {
        "colab": {
          "base_uri": "https://localhost:8080/",
          "height": 386
        },
        "id": "wmH2vXKJiEaN",
        "outputId": "f02ae03d-9321-4132-a7db-fc8a3b513660"
      },
      "outputs": [
        {
          "data": {
            "text/plain": [
              "<seaborn.axisgrid.FacetGrid at 0x7fb8c7153a00>"
            ]
          },
          "execution_count": 4,
          "metadata": {},
          "output_type": "execute_result"
        },
        {
          "data": {
            "image/png": "[encoded data removed]",
            "text/plain": [
              "<Figure size 360x360 with 1 Axes>"
            ]
          },
          "metadata": {
            "needs_background": "light"
          },
          "output_type": "display_data"
        }
      ],
      "source": [
        "sns.catplot(data=a, y=\"Owner\", \n",
        "            kind=\"count\",\n",
        "            order=a.Owner.value_counts().index, \n",
        "            color='green') "
      ]
    },
    {
      "cell_type": "markdown",
      "metadata": {
        "id": "w9XckJHwiD2j"
      },
      "source": [
        "Bar graph of Fuel Type value counts made using matplotlib."
      ]
    },
    {
      "cell_type": "code",
      "execution_count": 5,
      "metadata": {
        "colab": {
          "base_uri": "https://localhost:8080/",
          "height": 337
        },
        "id": "atplaiFWk3eS",
        "outputId": "a0f62ec1-bf18-42bc-ae51-419ac75ff877"
      },
      "outputs": [
        {
          "data": {
            "text/plain": [
              "<matplotlib.axes._subplots.AxesSubplot at 0x7fb8c43d2ee0>"
            ]
          },
          "execution_count": 5,
          "metadata": {},
          "output_type": "execute_result"
        },
        {
          "data": {
            "image/png": "[encoded data removed]",
            "text/plain": [
              "<Figure size 432x288 with 1 Axes>"
            ]
          },
          "metadata": {
            "needs_background": "light"
          },
          "output_type": "display_data"
        }
      ],
      "source": [
        "a['Fuel Type'].value_counts().plot(kind='bar')"
      ]
    },
    {
      "cell_type": "markdown",
      "metadata": {
        "id": "W0k04RqHlHg1"
      },
      "source": [
        "Scatter plot of correlation between Car Condition and Selling Price made using matplotlib."
      ]
    },
    {
      "cell_type": "code",
      "execution_count": 6,
      "metadata": {
        "colab": {
          "base_uri": "https://localhost:8080/",
          "height": 290
        },
        "id": "8ooDZrhDlDt3",
        "outputId": "5bed1912-78d5-43d7-c613-700289927fb3"
      },
      "outputs": [
        {
          "data": {
            "image/png": "[encoded data removed]",
            "text/plain": [
              "<Figure size 432x288 with 1 Axes>"
            ]
          },
          "metadata": {
            "needs_background": "light"
          },
          "output_type": "display_data"
        }
      ],
      "source": [
        "a.plot.scatter(x = 'Car Condition', y = 'Selling Price', s = 100);"
      ]
    },
    {
      "cell_type": "markdown",
      "metadata": {
        "id": "AceU3_Pflt-N"
      },
      "source": [
        "Histograms of Fuel Types and Year made using matplotlib."
      ]
    },
    {
      "cell_type": "code",
      "execution_count": 7,
      "metadata": {
        "colab": {
          "base_uri": "https://localhost:8080/",
          "height": 488
        },
        "id": "oUHMl9t6loKH",
        "outputId": "9749c696-16ee-4e33-dca6-e6d878127904"
      },
      "outputs": [
        {
          "data": {
            "text/plain": [
              "array([[<matplotlib.axes._subplots.AxesSubplot object at 0x7fb8c42edf70>,\n",
              "        <matplotlib.axes._subplots.AxesSubplot object at 0x7fb8c42a3550>],\n",
              "       [<matplotlib.axes._subplots.AxesSubplot object at 0x7fb8c424e970>,\n",
              "        <matplotlib.axes._subplots.AxesSubplot object at 0x7fb8c427ddc0>]],\n",
              "      dtype=object)"
            ]
          },
          "execution_count": 7,
          "metadata": {},
          "output_type": "execute_result"
        },
        {
          "data": {
            "image/png": "[encoded data removed]",
            "text/plain": [
              "<Figure size 720x432 with 4 Axes>"
            ]
          },
          "metadata": {
            "needs_background": "light"
          },
          "output_type": "display_data"
        }
      ],
      "source": [
        "a.hist(by='Fuel Type',\n",
        "       column='Year',\n",
        "       figsize=[10, 6])"
      ]
    },
    {
      "cell_type": "markdown",
      "metadata": {
        "id": "jYOhyA66mQr3"
      },
      "source": [
        "Distribution of Year made using seaborn."
      ]
    },
    {
      "cell_type": "code",
      "execution_count": 8,
      "metadata": {
        "colab": {
          "base_uri": "https://localhost:8080/",
          "height": 402
        },
        "id": "EWg7aAaemJ4s",
        "outputId": "50e5fbc6-0b69-4990-e150-5211d52232ce"
      },
      "outputs": [
        {
          "data": {
            "text/plain": [
              "<seaborn.axisgrid.FacetGrid at 0x7fb8c827b8e0>"
            ]
          },
          "execution_count": 8,
          "metadata": {},
          "output_type": "execute_result"
        },
        {
          "data": {
            "image/png": "[encoded data removed]",
            "text/plain": [
              "<Figure size 360x360 with 1 Axes>"
            ]
          },
          "metadata": {
            "needs_background": "light"
          },
          "output_type": "display_data"
        }
      ],
      "source": [
        "sns.displot(a, x = \"Year\").set(title = 'The Distribution of Year').set_axis_labels('Year', 'Count')"
      ]
    },
    {
      "cell_type": "markdown",
      "metadata": {
        "id": "V3MJfGj8miS6"
      },
      "source": [
        "Joint-plot of Car Condition and Interest Rate categorized by Fuel Type made using seaborn."
      ]
    },
    {
      "cell_type": "code",
      "execution_count": 9,
      "metadata": {
        "colab": {
          "base_uri": "https://localhost:8080/",
          "height": 458
        },
        "id": "Dxl1Vi5xmcyk",
        "outputId": "a3e0d329-a242-4762-e245-f06a4e5b1267"
      },
      "outputs": [
        {
          "data": {
            "text/plain": [
              "<seaborn.axisgrid.JointGrid at 0x7fb8d9b04670>"
            ]
          },
          "execution_count": 9,
          "metadata": {},
          "output_type": "execute_result"
        },
        {
          "data": {
            "image/png": "[encoded data removed]",
            "text/plain": [
              "<Figure size 432x432 with 3 Axes>"
            ]
          },
          "metadata": {
            "needs_background": "light"
          },
          "output_type": "display_data"
        }
      ],
      "source": [
        "sns.jointplot(data=a,x=\"Car Condition\",y=\"Interest Rate\",hue=\"Fuel Type\", palette = ['green','blue',\"red\"])"
      ]
    }
  ],
  "metadata": {
    "colab": {
      "provenance": []
    },
    "kernelspec": {
      "display_name": "Python 3",
      "name": "python3"
    },
    "language_info": {
      "name": "python"
    }
  },
  "nbformat": 4,
  "nbformat_minor": 0
}
